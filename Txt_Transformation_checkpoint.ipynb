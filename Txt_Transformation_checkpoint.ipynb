{
  "cells": [
    {
      "cell_type": "code",
      "execution_count": null,
      "metadata": {
        "id": "wLk7Sy2gIUAP"
      },
      "outputs": [],
      "source": [
        "import pandas as pd"
      ]
    },
    {
      "cell_type": "markdown",
      "metadata": {
        "id": "PVQv35toIUAe"
      },
      "source": [
        "# Nike"
      ]
    },
    {
      "cell_type": "code",
      "execution_count": null,
      "metadata": {
        "id": "Jsv7d6FkIUAl"
      },
      "outputs": [],
      "source": [
        "df_tweets = pd.read_csv(\"/Users/martinkvammen/Google Drive (martinkvammen@gmail.com)/1. Masters Thesis/5. Shared Thesis /3.1. Data/1. Data processing /Preprocessed data/preprocessed_original_nike.csv\")\n"
      ]
    },
    {
      "cell_type": "code",
      "execution_count": null,
      "metadata": {
        "id": "-AubtK11IUAp"
      },
      "outputs": [],
      "source": [
        "df_news = pd.read_csv(\"/Users/martinkvammen/Google Drive (martinkvammen@gmail.com)/1. Masters Thesis/5. Shared Thesis /3.1. Data/1. Data processing /Preprocessed data/preprocessed_news_nike.csv\")"
      ]
    },
    {
      "cell_type": "code",
      "execution_count": null,
      "metadata": {
        "id": "qLzuxAprIUAr",
        "outputId": "dc32ce9c-cb93-4be5-e3f3-17859ca2ad35"
      },
      "outputs": [
        {
          "data": {
            "text/html": [
              "<div>\n",
              "<style scoped>\n",
              "    .dataframe tbody tr th:only-of-type {\n",
              "        vertical-align: middle;\n",
              "    }\n",
              "\n",
              "    .dataframe tbody tr th {\n",
              "        vertical-align: top;\n",
              "    }\n",
              "\n",
              "    .dataframe thead th {\n",
              "        text-align: right;\n",
              "    }\n",
              "</style>\n",
              "<table border=\"1\" class=\"dataframe\">\n",
              "  <thead>\n",
              "    <tr style=\"text-align: right;\">\n",
              "      <th></th>\n",
              "      <th>Processed</th>\n",
              "    </tr>\n",
              "  </thead>\n",
              "  <tbody>\n",
              "    <tr>\n",
              "      <th>0</th>\n",
              "      <td>['charliekirk', 'theâ', 'naacp', 'saidâ', 'fla...</td>\n",
              "    </tr>\n",
              "    <tr>\n",
              "      <th>1</th>\n",
              "      <td>['sporti', 'support', 'action', 'toss', 'monar...</td>\n",
              "    </tr>\n",
              "    <tr>\n",
              "      <th>2</th>\n",
              "      <td>['ryanafourni', 'nike', 'anti', 'american', 'c...</td>\n",
              "    </tr>\n",
              "    <tr>\n",
              "      <th>3</th>\n",
              "      <td>['ryanafourni', 'nike', 'anti', 'american', 'c...</td>\n",
              "    </tr>\n",
              "    <tr>\n",
              "      <th>4</th>\n",
              "      <td>['ryanafourni', 'nike', 'anti', 'american', 'c...</td>\n",
              "    </tr>\n",
              "  </tbody>\n",
              "</table>\n",
              "</div>"
            ],
            "text/plain": [
              "                                           Processed\n",
              "0  ['charliekirk', 'theâ', 'naacp', 'saidâ', 'fla...\n",
              "1  ['sporti', 'support', 'action', 'toss', 'monar...\n",
              "2  ['ryanafourni', 'nike', 'anti', 'american', 'c...\n",
              "3  ['ryanafourni', 'nike', 'anti', 'american', 'c...\n",
              "4  ['ryanafourni', 'nike', 'anti', 'american', 'c..."
            ]
          },
          "execution_count": 5,
          "metadata": {},
          "output_type": "execute_result"
        }
      ],
      "source": [
        "col_tweets = ['Processed']\n",
        "df_tweets = df_tweets[col_tweets]\n",
        "df_tweets.head()"
      ]
    },
    {
      "cell_type": "code",
      "execution_count": null,
      "metadata": {
        "id": "WWJq9nmmIUAy",
        "outputId": "a0e6096f-66c5-417c-c565-c18c79f3780a"
      },
      "outputs": [
        {
          "data": {
            "text/html": [
              "<div>\n",
              "<style scoped>\n",
              "    .dataframe tbody tr th:only-of-type {\n",
              "        vertical-align: middle;\n",
              "    }\n",
              "\n",
              "    .dataframe tbody tr th {\n",
              "        vertical-align: top;\n",
              "    }\n",
              "\n",
              "    .dataframe thead th {\n",
              "        text-align: right;\n",
              "    }\n",
              "</style>\n",
              "<table border=\"1\" class=\"dataframe\">\n",
              "  <thead>\n",
              "    <tr style=\"text-align: right;\">\n",
              "      <th></th>\n",
              "      <th>Processed</th>\n",
              "    </tr>\n",
              "  </thead>\n",
              "  <tbody>\n",
              "    <tr>\n",
              "      <th>0</th>\n",
              "      <td>['earlier', 'week', 'arizona', 'doug', 'ducey'...</td>\n",
              "    </tr>\n",
              "    <tr>\n",
              "      <th>1</th>\n",
              "      <td>['seri', 'tweet', 'tuesday', 'ducey', 'say', '...</td>\n",
              "    </tr>\n",
              "    <tr>\n",
              "      <th>2</th>\n",
              "      <td>['arizona', 'economi', 'fine', 'nike', 'need',...</td>\n",
              "    </tr>\n",
              "    <tr>\n",
              "      <th>3</th>\n",
              "      <td>['despit', 'harsh', 'word', 'compani', 'week',...</td>\n",
              "    </tr>\n",
              "    <tr>\n",
              "      <th>4</th>\n",
              "      <td>['steve', 'irvin', 'phoenix', 'say', 'photo', ...</td>\n",
              "    </tr>\n",
              "  </tbody>\n",
              "</table>\n",
              "</div>"
            ],
            "text/plain": [
              "                                           Processed\n",
              "0  ['earlier', 'week', 'arizona', 'doug', 'ducey'...\n",
              "1  ['seri', 'tweet', 'tuesday', 'ducey', 'say', '...\n",
              "2  ['arizona', 'economi', 'fine', 'nike', 'need',...\n",
              "3  ['despit', 'harsh', 'word', 'compani', 'week',...\n",
              "4  ['steve', 'irvin', 'phoenix', 'say', 'photo', ..."
            ]
          },
          "execution_count": 6,
          "metadata": {},
          "output_type": "execute_result"
        }
      ],
      "source": [
        "col_news = ['Processed']\n",
        "df_news = df_news[col_news]\n",
        "df_news.head()"
      ]
    },
    {
      "cell_type": "code",
      "execution_count": null,
      "metadata": {
        "id": "WSVHHevlIUA2"
      },
      "outputs": [],
      "source": [
        "df_tweets_sample = df_tweets.sample(2000000)"
      ]
    },
    {
      "cell_type": "code",
      "execution_count": null,
      "metadata": {
        "id": "yjwJ4jURIUA5"
      },
      "outputs": [],
      "source": [
        "df_tweets_sample.to_csv(\"/Users/martinkvammen/Google Drive (martinkvammen@gmail.com)/1. Masters Thesis/5. Shared Thesis /3.1. Data/2.1. CSV to TXT transformation/nike_tweets.txt\")\n",
        "df_news.to_csv(\"/Users/martinkvammen/Google Drive (martinkvammen@gmail.com)/1. Masters Thesis/5. Shared Thesis /3.1. Data/2.1. CSV to TXT transformation/nike_news.txt\")"
      ]
    },
    {
      "cell_type": "markdown",
      "metadata": {
        "id": "K1RLdWvpIUA7"
      },
      "source": [
        "# Gillette"
      ]
    },
    {
      "cell_type": "code",
      "execution_count": null,
      "metadata": {
        "id": "S6e_CNUbIUA-"
      },
      "outputs": [],
      "source": [
        "df_tweets_G = pd.read_csv(\"/Users/martinkvammen/Google Drive (martinkvammen@gmail.com)/1. Masters Thesis/5. Shared Thesis /3.1. Data/1. Data processing /Preprocessed data/preprocessed_original_gillette.csv\")\n"
      ]
    },
    {
      "cell_type": "code",
      "execution_count": null,
      "metadata": {
        "id": "jgbCOYvuIUBA"
      },
      "outputs": [],
      "source": [
        "df_news_G = pd.read_csv(\"/Users/martinkvammen/Google Drive (martinkvammen@gmail.com)/1. Masters Thesis/5. Shared Thesis /3.1. Data/1. Data processing /Preprocessed data/preprocessed_news_gillette.csv\")"
      ]
    },
    {
      "cell_type": "code",
      "execution_count": null,
      "metadata": {
        "id": "w9JgYjsnIUBC",
        "outputId": "506a2aa2-1896-42ed-c0be-565af17aab05"
      },
      "outputs": [
        {
          "data": {
            "text/html": [
              "<div>\n",
              "<style scoped>\n",
              "    .dataframe tbody tr th:only-of-type {\n",
              "        vertical-align: middle;\n",
              "    }\n",
              "\n",
              "    .dataframe tbody tr th {\n",
              "        vertical-align: top;\n",
              "    }\n",
              "\n",
              "    .dataframe thead th {\n",
              "        text-align: right;\n",
              "    }\n",
              "</style>\n",
              "<table border=\"1\" class=\"dataframe\">\n",
              "  <thead>\n",
              "    <tr style=\"text-align: right;\">\n",
              "      <th></th>\n",
              "      <th>Processed</th>\n",
              "    </tr>\n",
              "  </thead>\n",
              "  <tbody>\n",
              "    <tr>\n",
              "      <th>0</th>\n",
              "      <td>['usmc_bamci', 'mastrblu', 'boycottgillett', '...</td>\n",
              "    </tr>\n",
              "    <tr>\n",
              "      <th>1</th>\n",
              "      <td>['usmc_bamci', 'mastrblu', 'boycottgillett', '...</td>\n",
              "    </tr>\n",
              "    <tr>\n",
              "      <th>2</th>\n",
              "      <td>['gilletteâ', 'inspir', 'toxic', 'masculin', '...</td>\n",
              "    </tr>\n",
              "    <tr>\n",
              "      <th>3</th>\n",
              "      <td>['high', 'entertain', 'watch', 'twitter', 'thr...</td>\n",
              "    </tr>\n",
              "    <tr>\n",
              "      <th>4</th>\n",
              "      <td>['eiguanac', 'wors', 'messag', 'general', 'pro...</td>\n",
              "    </tr>\n",
              "  </tbody>\n",
              "</table>\n",
              "</div>"
            ],
            "text/plain": [
              "                                           Processed\n",
              "0  ['usmc_bamci', 'mastrblu', 'boycottgillett', '...\n",
              "1  ['usmc_bamci', 'mastrblu', 'boycottgillett', '...\n",
              "2  ['gilletteâ', 'inspir', 'toxic', 'masculin', '...\n",
              "3  ['high', 'entertain', 'watch', 'twitter', 'thr...\n",
              "4  ['eiguanac', 'wors', 'messag', 'general', 'pro..."
            ]
          },
          "execution_count": 21,
          "metadata": {},
          "output_type": "execute_result"
        }
      ],
      "source": [
        "col_tweets_G = ['Processed']\n",
        "df_tweets_G = df_tweets_G[col_tweets]\n",
        "df_tweets_G.head()"
      ]
    },
    {
      "cell_type": "code",
      "execution_count": null,
      "metadata": {
        "id": "CpA7Hcs6IUBD",
        "outputId": "a9f7ae40-c9b8-4141-c2e0-abfc7bf53f43"
      },
      "outputs": [
        {
          "data": {
            "text/html": [
              "<div>\n",
              "<style scoped>\n",
              "    .dataframe tbody tr th:only-of-type {\n",
              "        vertical-align: middle;\n",
              "    }\n",
              "\n",
              "    .dataframe tbody tr th {\n",
              "        vertical-align: top;\n",
              "    }\n",
              "\n",
              "    .dataframe thead th {\n",
              "        text-align: right;\n",
              "    }\n",
              "</style>\n",
              "<table border=\"1\" class=\"dataframe\">\n",
              "  <thead>\n",
              "    <tr style=\"text-align: right;\">\n",
              "      <th></th>\n",
              "      <th>Processed</th>\n",
              "    </tr>\n",
              "  </thead>\n",
              "  <tbody>\n",
              "    <tr>\n",
              "      <th>0</th>\n",
              "      <td>['right', 'light', 'year', 'fuzzi', 'cusp', 'g...</td>\n",
              "    </tr>\n",
              "    <tr>\n",
              "      <th>1</th>\n",
              "      <td>['plan', 'shave']</td>\n",
              "    </tr>\n",
              "    <tr>\n",
              "      <th>2</th>\n",
              "      <td>['chanc', 'sit', 'countertop', 'time', 'itch',...</td>\n",
              "    </tr>\n",
              "    <tr>\n",
              "      <th>3</th>\n",
              "      <td>['scene', 'day', 'inspir', 'moment', 'watch', ...</td>\n",
              "    </tr>\n",
              "    <tr>\n",
              "      <th>4</th>\n",
              "      <td>['spot', 'gillett', 'address', 'negat', 'aspec...</td>\n",
              "    </tr>\n",
              "  </tbody>\n",
              "</table>\n",
              "</div>"
            ],
            "text/plain": [
              "                                           Processed\n",
              "0  ['right', 'light', 'year', 'fuzzi', 'cusp', 'g...\n",
              "1                                  ['plan', 'shave']\n",
              "2  ['chanc', 'sit', 'countertop', 'time', 'itch',...\n",
              "3  ['scene', 'day', 'inspir', 'moment', 'watch', ...\n",
              "4  ['spot', 'gillett', 'address', 'negat', 'aspec..."
            ]
          },
          "execution_count": 22,
          "metadata": {},
          "output_type": "execute_result"
        }
      ],
      "source": [
        "col_news_G = ['Processed']\n",
        "df_news_G = df_news_G[col_news]\n",
        "df_news_G.head()"
      ]
    },
    {
      "cell_type": "code",
      "execution_count": null,
      "metadata": {
        "id": "NEXrAstGIUBF"
      },
      "outputs": [],
      "source": [
        "df_tweets_sample_G = df_tweets.sample(2000000)"
      ]
    },
    {
      "cell_type": "code",
      "execution_count": null,
      "metadata": {
        "id": "fApzEhB2IUBG"
      },
      "outputs": [],
      "source": [
        "df_tweets_sample_G.to_csv(\"/Users/martinkvammen/Google Drive (martinkvammen@gmail.com)/1. Masters Thesis/5. Shared Thesis /3.1. Data/2.1. CSV to TXT transformation/gillette_tweets.txt\")\n",
        "df_news_G.to_csv(\"/Users/martinkvammen/Google Drive (martinkvammen@gmail.com)/1. Masters Thesis/5. Shared Thesis /3.1. Data/2.1. CSV to TXT transformation/gillette_news.txt\")"
      ]
    },
    {
      "cell_type": "markdown",
      "metadata": {
        "id": "QmI4HPQGIUBI"
      },
      "source": [
        "# Boeing"
      ]
    },
    {
      "cell_type": "code",
      "execution_count": null,
      "metadata": {
        "id": "2hphLAlSIUBI"
      },
      "outputs": [],
      "source": [
        "df_tweets_B = pd.read_csv(\"/Users/martinkvammen/Google Drive (martinkvammen@gmail.com)/1. Masters Thesis/5. Shared Thesis /3.1. Data/1. Data processing /Preprocessed data/preprocessed_original_boeing.csv\")\n",
        "df_news_B = pd.read_csv(\"/Users/martinkvammen/Google Drive (martinkvammen@gmail.com)/1. Masters Thesis/5. Shared Thesis /3.1. Data/1. Data processing /Preprocessed data/preprocessed_news_boeing.csv\")"
      ]
    },
    {
      "cell_type": "code",
      "execution_count": null,
      "metadata": {
        "id": "nFjt2giMIUBK",
        "outputId": "a93894f7-28b7-4ee6-bfc6-b2a995c703f3"
      },
      "outputs": [
        {
          "data": {
            "text/html": [
              "<div>\n",
              "<style scoped>\n",
              "    .dataframe tbody tr th:only-of-type {\n",
              "        vertical-align: middle;\n",
              "    }\n",
              "\n",
              "    .dataframe tbody tr th {\n",
              "        vertical-align: top;\n",
              "    }\n",
              "\n",
              "    .dataframe thead th {\n",
              "        text-align: right;\n",
              "    }\n",
              "</style>\n",
              "<table border=\"1\" class=\"dataframe\">\n",
              "  <thead>\n",
              "    <tr style=\"text-align: right;\">\n",
              "      <th></th>\n",
              "      <th>Processed</th>\n",
              "    </tr>\n",
              "  </thead>\n",
              "  <tbody>\n",
              "    <tr>\n",
              "      <th>0</th>\n",
              "      <td>['realmattcouch', 'break', 'footag', 'ukrainia...</td>\n",
              "    </tr>\n",
              "    <tr>\n",
              "      <th>1</th>\n",
              "      <td>['cnnbrk', 'peopl', 'aboard', 'ukrain', 'inter...</td>\n",
              "    </tr>\n",
              "    <tr>\n",
              "      <th>2</th>\n",
              "      <td>['busi', 'break', 'boe', 'crash', 'iran', 'sho...</td>\n",
              "    </tr>\n",
              "    <tr>\n",
              "      <th>3</th>\n",
              "      <td>['boe', 'plane', 'carri', 'passeng', 'crew', '...</td>\n",
              "    </tr>\n",
              "    <tr>\n",
              "      <th>4</th>\n",
              "      <td>['reuter', 'ukrainian', 'boe', 'crash', 'iran'...</td>\n",
              "    </tr>\n",
              "  </tbody>\n",
              "</table>\n",
              "</div>"
            ],
            "text/plain": [
              "                                           Processed\n",
              "0  ['realmattcouch', 'break', 'footag', 'ukrainia...\n",
              "1  ['cnnbrk', 'peopl', 'aboard', 'ukrain', 'inter...\n",
              "2  ['busi', 'break', 'boe', 'crash', 'iran', 'sho...\n",
              "3  ['boe', 'plane', 'carri', 'passeng', 'crew', '...\n",
              "4  ['reuter', 'ukrainian', 'boe', 'crash', 'iran'..."
            ]
          },
          "execution_count": 14,
          "metadata": {},
          "output_type": "execute_result"
        }
      ],
      "source": [
        "col_tweets_B = ['Processed']\n",
        "df_tweets_B = df_tweets_B[col_tweets]\n",
        "df_tweets_B.head()"
      ]
    },
    {
      "cell_type": "code",
      "execution_count": null,
      "metadata": {
        "id": "o9be8thOIUBL",
        "outputId": "7fd0b991-7f62-42e3-f553-bc07ee4a0380"
      },
      "outputs": [
        {
          "data": {
            "text/html": [
              "<div>\n",
              "<style scoped>\n",
              "    .dataframe tbody tr th:only-of-type {\n",
              "        vertical-align: middle;\n",
              "    }\n",
              "\n",
              "    .dataframe tbody tr th {\n",
              "        vertical-align: top;\n",
              "    }\n",
              "\n",
              "    .dataframe thead th {\n",
              "        text-align: right;\n",
              "    }\n",
              "</style>\n",
              "<table border=\"1\" class=\"dataframe\">\n",
              "  <thead>\n",
              "    <tr style=\"text-align: right;\">\n",
              "      <th></th>\n",
              "      <th>Processed</th>\n",
              "    </tr>\n",
              "  </thead>\n",
              "  <tbody>\n",
              "    <tr>\n",
              "      <th>0</th>\n",
              "      <td>['instant', 'messag', 'intern', 'boe', 'docume...</td>\n",
              "    </tr>\n",
              "    <tr>\n",
              "      <th>1</th>\n",
              "      <td>['haven', 'forgiv', 'cover', 'year', 'say', 'm...</td>\n",
              "    </tr>\n",
              "    <tr>\n",
              "      <th>2</th>\n",
              "      <td>['exchang', 'boe', 'employe', 'august', 'close...</td>\n",
              "    </tr>\n",
              "    <tr>\n",
              "      <th>3</th>\n",
              "      <td>['boe', 'employe', 'write', 'airplan', 'design...</td>\n",
              "    </tr>\n",
              "    <tr>\n",
              "      <th>4</th>\n",
              "      <td>['document', 'releas', 'boe', 'congression', '...</td>\n",
              "    </tr>\n",
              "  </tbody>\n",
              "</table>\n",
              "</div>"
            ],
            "text/plain": [
              "                                           Processed\n",
              "0  ['instant', 'messag', 'intern', 'boe', 'docume...\n",
              "1  ['haven', 'forgiv', 'cover', 'year', 'say', 'm...\n",
              "2  ['exchang', 'boe', 'employe', 'august', 'close...\n",
              "3  ['boe', 'employe', 'write', 'airplan', 'design...\n",
              "4  ['document', 'releas', 'boe', 'congression', '..."
            ]
          },
          "execution_count": 15,
          "metadata": {},
          "output_type": "execute_result"
        }
      ],
      "source": [
        "col_news_B = ['Processed']\n",
        "df_news_B = df_news_B[col_news]\n",
        "df_news_B.head()"
      ]
    },
    {
      "cell_type": "code",
      "execution_count": null,
      "metadata": {
        "id": "yv_WcKOmIUBN"
      },
      "outputs": [],
      "source": [
        "df_tweets_sample_B = df_tweets.sample(2000000)"
      ]
    },
    {
      "cell_type": "code",
      "execution_count": null,
      "metadata": {
        "id": "oBFRymVjIUBQ"
      },
      "outputs": [],
      "source": [
        "df_tweets_sample_B.to_csv(\"/Users/martinkvammen/Google Drive (martinkvammen@gmail.com)/1. Masters Thesis/5. Shared Thesis /3.1. Data/2.1. CSV to TXT transformation/boeing_tweets.txt\")\n",
        "df_news_B.to_csv(\"/Users/martinkvammen/Google Drive (martinkvammen@gmail.com)/1. Masters Thesis/5. Shared Thesis /3.1. Data/2.1. CSV to TXT transformation/boeing_news.txt\")"
      ]
    },
    {
      "cell_type": "markdown",
      "metadata": {
        "id": "xhDMSxdkIUBR"
      },
      "source": [
        "# Tesla"
      ]
    },
    {
      "cell_type": "code",
      "execution_count": null,
      "metadata": {
        "id": "wLv2dYyTIUBS"
      },
      "outputs": [],
      "source": [
        "df_tweets_T = pd.read_csv(\"/Users/martinkvammen/Google Drive (martinkvammen@gmail.com)/1. Masters Thesis/5. Shared Thesis /3.1. Data/1. Data processing /Preprocessed data/preprocessed_original_tesla.csv\")\n",
        "df_news_T = pd.read_csv(\"/Users/martinkvammen/Google Drive (martinkvammen@gmail.com)/1. Masters Thesis/5. Shared Thesis /3.1. Data/1. Data processing /Preprocessed data/preprocessed_news_tesla.csv\")"
      ]
    },
    {
      "cell_type": "code",
      "execution_count": null,
      "metadata": {
        "id": "zOiny1z8IUBT",
        "outputId": "af9ec594-5256-4974-847d-0c620f9827fa"
      },
      "outputs": [
        {
          "data": {
            "text/html": [
              "<div>\n",
              "<style scoped>\n",
              "    .dataframe tbody tr th:only-of-type {\n",
              "        vertical-align: middle;\n",
              "    }\n",
              "\n",
              "    .dataframe tbody tr th {\n",
              "        vertical-align: top;\n",
              "    }\n",
              "\n",
              "    .dataframe thead th {\n",
              "        text-align: right;\n",
              "    }\n",
              "</style>\n",
              "<table border=\"1\" class=\"dataframe\">\n",
              "  <thead>\n",
              "    <tr style=\"text-align: right;\">\n",
              "      <th></th>\n",
              "      <th>Processed</th>\n",
              "    </tr>\n",
              "  </thead>\n",
              "  <tbody>\n",
              "    <tr>\n",
              "      <th>1962848</th>\n",
              "      <td>['pult', 'tesla', 'sound', 'year', 'disabl', '...</td>\n",
              "    </tr>\n",
              "    <tr>\n",
              "      <th>1962849</th>\n",
              "      <td>['ngyntlinh', 'orang', 'tesla', 'sound', 'like...</td>\n",
              "    </tr>\n",
              "    <tr>\n",
              "      <th>1962850</th>\n",
              "      <td>['augalici', 'tslaq', 'manipul', 'campaign', '...</td>\n",
              "    </tr>\n",
              "    <tr>\n",
              "      <th>1962851</th>\n",
              "      <td>['elonmusk', 'possibl', 'stream', 'tesla', 'cy...</td>\n",
              "    </tr>\n",
              "    <tr>\n",
              "      <th>1962852</th>\n",
              "      <td>['jenstreet', 'pump', 'thursday', 'wish', 'per...</td>\n",
              "    </tr>\n",
              "  </tbody>\n",
              "</table>\n",
              "</div>"
            ],
            "text/plain": [
              "                                                 Processed\n",
              "1962848  ['pult', 'tesla', 'sound', 'year', 'disabl', '...\n",
              "1962849  ['ngyntlinh', 'orang', 'tesla', 'sound', 'like...\n",
              "1962850  ['augalici', 'tslaq', 'manipul', 'campaign', '...\n",
              "1962851  ['elonmusk', 'possibl', 'stream', 'tesla', 'cy...\n",
              "1962852  ['jenstreet', 'pump', 'thursday', 'wish', 'per..."
            ]
          },
          "execution_count": 22,
          "metadata": {},
          "output_type": "execute_result"
        }
      ],
      "source": [
        "col_tweets_T = ['Processed']\n",
        "df_tweets_T = df_tweets_T[col_tweets]\n",
        "df_tweets_T.tail()"
      ]
    },
    {
      "cell_type": "code",
      "execution_count": null,
      "metadata": {
        "id": "cP6EoNkhIUBU"
      },
      "outputs": [],
      "source": [
        "col_news_T = ['Processed']\n",
        "df_news_T = df_news_T[col_news]\n",
        "df_news_T.head()"
      ]
    },
    {
      "cell_type": "code",
      "execution_count": null,
      "metadata": {
        "id": "PUQLO6jLIUBV"
      },
      "outputs": [],
      "source": [
        "df_tweets_T.to_csv(\"/Users/martinkvammen/Google Drive (martinkvammen@gmail.com)/1. Masters Thesis/5. Shared Thesis /3.1. Data/2.1. CSV to TXT transformation/tesla_tweets.txt\")\n",
        "df_news_T.to_csv(\"/Users/martinkvammen/Google Drive (martinkvammen@gmail.com)/1. Masters Thesis/5. Shared Thesis /3.1. Data/2.1. CSV to TXT transformation/tesla_news.txt\")"
      ]
    },
    {
      "cell_type": "markdown",
      "metadata": {
        "id": "igVlGkgrIUBW"
      },
      "source": [
        "# EasyJet"
      ]
    },
    {
      "cell_type": "code",
      "execution_count": null,
      "metadata": {
        "id": "dRmfKJGHIUBW"
      },
      "outputs": [],
      "source": [
        "df_tweets_E = pd.read_csv(\"/Users/martinkvammen/Google Drive (martinkvammen@gmail.com)/1. Masters Thesis/5. Shared Thesis /3.1. Data/1. Data processing /Preprocessed data/preprocessed_original_easyjet.csv\")\n",
        "df_news_E = pd.read_csv(\"/Users/martinkvammen/Google Drive (martinkvammen@gmail.com)/1. Masters Thesis/5. Shared Thesis /3.1. Data/1. Data processing /Preprocessed data/preprocessed_news_easyjet.csv\")"
      ]
    },
    {
      "cell_type": "code",
      "execution_count": null,
      "metadata": {
        "id": "AL6TiuN7IUBX",
        "outputId": "fb0e1099-bb7c-4f6f-d87e-bb77190be5d0"
      },
      "outputs": [
        {
          "data": {
            "text/html": [
              "<div>\n",
              "<style scoped>\n",
              "    .dataframe tbody tr th:only-of-type {\n",
              "        vertical-align: middle;\n",
              "    }\n",
              "\n",
              "    .dataframe tbody tr th {\n",
              "        vertical-align: top;\n",
              "    }\n",
              "\n",
              "    .dataframe thead th {\n",
              "        text-align: right;\n",
              "    }\n",
              "</style>\n",
              "<table border=\"1\" class=\"dataframe\">\n",
              "  <thead>\n",
              "    <tr style=\"text-align: right;\">\n",
              "      <th></th>\n",
              "      <th>Processed</th>\n",
              "    </tr>\n",
              "  </thead>\n",
              "  <tbody>\n",
              "    <tr>\n",
              "      <th>89539</th>\n",
              "      <td>['easyjet', 'menu', 'question']</td>\n",
              "    </tr>\n",
              "    <tr>\n",
              "      <th>89540</th>\n",
              "      <td>['cheek', 'easyjet', 'charg', 'nose', 'wife', ...</td>\n",
              "    </tr>\n",
              "    <tr>\n",
              "      <th>89541</th>\n",
              "      <td>['xgohub', 'airlin', 'fleet', 'size', 'number'...</td>\n",
              "    </tr>\n",
              "    <tr>\n",
              "      <th>89542</th>\n",
              "      <td>['linashannak', 'nopenottodayno', 'depend', 'a...</td>\n",
              "    </tr>\n",
              "    <tr>\n",
              "      <th>89543</th>\n",
              "      <td>['hotstreek', 'melsunros', 'pribillik', 'nina'...</td>\n",
              "    </tr>\n",
              "  </tbody>\n",
              "</table>\n",
              "</div>"
            ],
            "text/plain": [
              "                                               Processed\n",
              "89539                    ['easyjet', 'menu', 'question']\n",
              "89540  ['cheek', 'easyjet', 'charg', 'nose', 'wife', ...\n",
              "89541  ['xgohub', 'airlin', 'fleet', 'size', 'number'...\n",
              "89542  ['linashannak', 'nopenottodayno', 'depend', 'a...\n",
              "89543  ['hotstreek', 'melsunros', 'pribillik', 'nina'..."
            ]
          },
          "execution_count": 25,
          "metadata": {},
          "output_type": "execute_result"
        }
      ],
      "source": [
        "col_tweets_E = ['Processed']\n",
        "df_tweets_E = df_tweets_E[col_tweets]\n",
        "df_tweets_E.tail()"
      ]
    },
    {
      "cell_type": "code",
      "execution_count": null,
      "metadata": {
        "id": "z26L7TxiIUBY",
        "outputId": "b1c503e4-4df8-490f-9195-6ea46ceef715"
      },
      "outputs": [
        {
          "data": {
            "text/html": [
              "<div>\n",
              "<style scoped>\n",
              "    .dataframe tbody tr th:only-of-type {\n",
              "        vertical-align: middle;\n",
              "    }\n",
              "\n",
              "    .dataframe tbody tr th {\n",
              "        vertical-align: top;\n",
              "    }\n",
              "\n",
              "    .dataframe thead th {\n",
              "        text-align: right;\n",
              "    }\n",
              "</style>\n",
              "<table border=\"1\" class=\"dataframe\">\n",
              "  <thead>\n",
              "    <tr style=\"text-align: right;\">\n",
              "      <th></th>\n",
              "      <th>Processed</th>\n",
              "    </tr>\n",
              "  </thead>\n",
              "  <tbody>\n",
              "    <tr>\n",
              "      <th>0</th>\n",
              "      <td>['easyjet', 'slam', 'ask', 'passeng', 'photo',...</td>\n",
              "    </tr>\n",
              "    <tr>\n",
              "      <th>1</th>\n",
              "      <td>['imag', 'share', 'social', 'media', 'show', '...</td>\n",
              "    </tr>\n",
              "    <tr>\n",
              "      <th>2</th>\n",
              "      <td>['caption', 'accompani', 'imag', 'say', 'easyj...</td>\n",
              "    </tr>\n",
              "    <tr>\n",
              "      <th>3</th>\n",
              "      <td>['passeng', 'share', 'imag', 'tell', 'onlin', ...</td>\n",
              "    </tr>\n",
              "    <tr>\n",
              "      <th>4</th>\n",
              "      <td>['explain', 'flight', 'attend', 'ask', 'woman'...</td>\n",
              "    </tr>\n",
              "  </tbody>\n",
              "</table>\n",
              "</div>"
            ],
            "text/plain": [
              "                                           Processed\n",
              "0  ['easyjet', 'slam', 'ask', 'passeng', 'photo',...\n",
              "1  ['imag', 'share', 'social', 'media', 'show', '...\n",
              "2  ['caption', 'accompani', 'imag', 'say', 'easyj...\n",
              "3  ['passeng', 'share', 'imag', 'tell', 'onlin', ...\n",
              "4  ['explain', 'flight', 'attend', 'ask', 'woman'..."
            ]
          },
          "execution_count": 26,
          "metadata": {},
          "output_type": "execute_result"
        }
      ],
      "source": [
        "col_news_E = ['Processed']\n",
        "df_news_E = df_news_E[col_news]\n",
        "df_news_E.head()"
      ]
    },
    {
      "cell_type": "code",
      "execution_count": null,
      "metadata": {
        "id": "ynqtecy0IUBa"
      },
      "outputs": [],
      "source": [
        "df_tweets_T.to_csv(\"/Users/martinkvammen/Google Drive (martinkvammen@gmail.com)/1. Masters Thesis/5. Shared Thesis /3.1. Data/2.1. CSV to TXT transformation/easyjet_tweets.txt\")\n",
        "df_news_T.to_csv(\"/Users/martinkvammen/Google Drive (martinkvammen@gmail.com)/1. Masters Thesis/5. Shared Thesis /3.1. Data/2.1. CSV to TXT transformation/easyjet_news.txt\")"
      ]
    },
    {
      "cell_type": "code",
      "execution_count": null,
      "metadata": {
        "id": "ieB1jcDJIUBa"
      },
      "outputs": [],
      "source": []
    }
  ],
  "metadata": {
    "kernelspec": {
      "display_name": "Python 3",
      "language": "python",
      "name": "python3"
    },
    "language_info": {
      "codemirror_mode": {
        "name": "ipython",
        "version": 3
      },
      "file_extension": ".py",
      "mimetype": "text/x-python",
      "name": "python",
      "nbconvert_exporter": "python",
      "pygments_lexer": "ipython3",
      "version": "3.7.3"
    },
    "colab": {
      "provenance": []
    }
  },
  "nbformat": 4,
  "nbformat_minor": 0
}