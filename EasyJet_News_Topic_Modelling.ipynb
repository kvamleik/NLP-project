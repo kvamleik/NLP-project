{
  "cells": [
    {
      "cell_type": "code",
      "execution_count": null,
      "metadata": {
        "id": "7wB_Rvug9d12"
      },
      "outputs": [],
      "source": [
        "import pandas as pd"
      ]
    },
    {
      "cell_type": "code",
      "execution_count": null,
      "metadata": {
        "id": "Z3awYAVOLMvG",
        "outputId": "3857348a-33ff-4b9a-9ae0-f4307932ff44"
      },
      "outputs": [
        {
          "data": {
            "text/plain": [
              "'C:\\\\Users\\\\Kvamleik\\\\Desktop\\\\MasterData'"
            ]
          },
          "execution_count": 2,
          "metadata": {},
          "output_type": "execute_result"
        }
      ],
      "source": [
        "pwd"
      ]
    },
    {
      "cell_type": "code",
      "execution_count": null,
      "metadata": {
        "id": "Q9WMwBMK9d2B",
        "outputId": "78dc6823-6ac2-4c64-950e-bf1932fec4ec"
      },
      "outputs": [
        {
          "data": {
            "text/html": [
              "<div>\n",
              "<style scoped>\n",
              "    .dataframe tbody tr th:only-of-type {\n",
              "        vertical-align: middle;\n",
              "    }\n",
              "\n",
              "    .dataframe tbody tr th {\n",
              "        vertical-align: top;\n",
              "    }\n",
              "\n",
              "    .dataframe thead th {\n",
              "        text-align: right;\n",
              "    }\n",
              "</style>\n",
              "<table border=\"1\" class=\"dataframe\">\n",
              "  <thead>\n",
              "    <tr style=\"text-align: right;\">\n",
              "      <th></th>\n",
              "      <th>Unnamed: 0</th>\n",
              "      <th>Case</th>\n",
              "      <th>Date Published</th>\n",
              "      <th>Medium</th>\n",
              "      <th>Link</th>\n",
              "      <th>Headline</th>\n",
              "      <th>Paragraph No</th>\n",
              "      <th>Text</th>\n",
              "      <th>Attribute</th>\n",
              "      <th>Benefit</th>\n",
              "      <th>Personality</th>\n",
              "      <th>Attitude</th>\n",
              "      <th>index</th>\n",
              "      <th>Processed</th>\n",
              "    </tr>\n",
              "  </thead>\n",
              "  <tbody>\n",
              "    <tr>\n",
              "      <th>0</th>\n",
              "      <td>0</td>\n",
              "      <td>EasyJet</td>\n",
              "      <td>2019-08-06</td>\n",
              "      <td>The Sun</td>\n",
              "      <td>https://www.thesun.co.uk/travel/9664051/easyje...</td>\n",
              "      <td>SIT BACK, DON'T RELAX! Easyjet passenger pictu...</td>\n",
              "      <td>Paragraph 1</td>\n",
              "      <td>EASYJET has been slammed for asking a passenge...</td>\n",
              "      <td>NP</td>\n",
              "      <td>S</td>\n",
              "      <td>SI</td>\n",
              "      <td>NG</td>\n",
              "      <td>0</td>\n",
              "      <td>['easyjet', 'slam', 'ask', 'passeng', 'photo',...</td>\n",
              "    </tr>\n",
              "    <tr>\n",
              "      <th>1</th>\n",
              "      <td>1</td>\n",
              "      <td>EasyJet</td>\n",
              "      <td>2019-08-06</td>\n",
              "      <td>The Sun</td>\n",
              "      <td>https://www.thesun.co.uk/travel/9664051/easyje...</td>\n",
              "      <td>SIT BACK, DON'T RELAX! Easyjet passenger pictu...</td>\n",
              "      <td>Paragraph 2</td>\n",
              "      <td>Images shared on social media showed a poor wo...</td>\n",
              "      <td>NP</td>\n",
              "      <td>S</td>\n",
              "      <td>SI</td>\n",
              "      <td>NG</td>\n",
              "      <td>1</td>\n",
              "      <td>['imag', 'share', 'social', 'media', 'show', '...</td>\n",
              "    </tr>\n",
              "    <tr>\n",
              "      <th>2</th>\n",
              "      <td>2</td>\n",
              "      <td>EasyJet</td>\n",
              "      <td>2019-08-06</td>\n",
              "      <td>The Sun</td>\n",
              "      <td>https://www.thesun.co.uk/travel/9664051/easyje...</td>\n",
              "      <td>SIT BACK, DON'T RELAX! Easyjet passenger pictu...</td>\n",
              "      <td>Paragraph 3</td>\n",
              "      <td>A caption accompanying the image said: \"#easyj...</td>\n",
              "      <td>P</td>\n",
              "      <td>F</td>\n",
              "      <td>C</td>\n",
              "      <td>NG</td>\n",
              "      <td>2</td>\n",
              "      <td>['caption', 'accompani', 'imag', 'say', 'easyj...</td>\n",
              "    </tr>\n",
              "    <tr>\n",
              "      <th>3</th>\n",
              "      <td>3</td>\n",
              "      <td>EasyJet</td>\n",
              "      <td>2019-08-06</td>\n",
              "      <td>The Sun</td>\n",
              "      <td>https://www.thesun.co.uk/travel/9664051/easyje...</td>\n",
              "      <td>SIT BACK, DON'T RELAX! Easyjet passenger pictu...</td>\n",
              "      <td>Paragraph 4</td>\n",
              "      <td>The passenger who shared the image told Sun On...</td>\n",
              "      <td>P</td>\n",
              "      <td>F</td>\n",
              "      <td>C</td>\n",
              "      <td>NG</td>\n",
              "      <td>3</td>\n",
              "      <td>['passeng', 'share', 'imag', 'tell', 'onlin', ...</td>\n",
              "    </tr>\n",
              "    <tr>\n",
              "      <th>4</th>\n",
              "      <td>4</td>\n",
              "      <td>EasyJet</td>\n",
              "      <td>2019-08-06</td>\n",
              "      <td>The Sun</td>\n",
              "      <td>https://www.thesun.co.uk/travel/9664051/easyje...</td>\n",
              "      <td>SIT BACK, DON'T RELAX! Easyjet passenger pictu...</td>\n",
              "      <td>Paragraph 5</td>\n",
              "      <td>He explained: \"The flight attendant asked [the...</td>\n",
              "      <td>NP</td>\n",
              "      <td>S</td>\n",
              "      <td>SI</td>\n",
              "      <td>NG</td>\n",
              "      <td>4</td>\n",
              "      <td>['explain', 'flight', 'attend', 'ask', 'woman'...</td>\n",
              "    </tr>\n",
              "  </tbody>\n",
              "</table>\n",
              "</div>"
            ],
            "text/plain": [
              "   Unnamed: 0     Case Date Published   Medium  \\\n",
              "0           0  EasyJet     2019-08-06  The Sun   \n",
              "1           1  EasyJet     2019-08-06  The Sun   \n",
              "2           2  EasyJet     2019-08-06  The Sun   \n",
              "3           3  EasyJet     2019-08-06  The Sun   \n",
              "4           4  EasyJet     2019-08-06  The Sun   \n",
              "\n",
              "                                                Link  \\\n",
              "0  https://www.thesun.co.uk/travel/9664051/easyje...   \n",
              "1  https://www.thesun.co.uk/travel/9664051/easyje...   \n",
              "2  https://www.thesun.co.uk/travel/9664051/easyje...   \n",
              "3  https://www.thesun.co.uk/travel/9664051/easyje...   \n",
              "4  https://www.thesun.co.uk/travel/9664051/easyje...   \n",
              "\n",
              "                                            Headline Paragraph No  \\\n",
              "0  SIT BACK, DON'T RELAX! Easyjet passenger pictu...  Paragraph 1   \n",
              "1  SIT BACK, DON'T RELAX! Easyjet passenger pictu...  Paragraph 2   \n",
              "2  SIT BACK, DON'T RELAX! Easyjet passenger pictu...  Paragraph 3   \n",
              "3  SIT BACK, DON'T RELAX! Easyjet passenger pictu...  Paragraph 4   \n",
              "4  SIT BACK, DON'T RELAX! Easyjet passenger pictu...  Paragraph 5   \n",
              "\n",
              "                                                Text Attribute Benefit  \\\n",
              "0  EASYJET has been slammed for asking a passenge...        NP       S   \n",
              "1  Images shared on social media showed a poor wo...        NP       S   \n",
              "2  A caption accompanying the image said: \"#easyj...         P       F   \n",
              "3  The passenger who shared the image told Sun On...         P       F   \n",
              "4  He explained: \"The flight attendant asked [the...        NP       S   \n",
              "\n",
              "  Personality Attitude  index  \\\n",
              "0          SI       NG      0   \n",
              "1          SI       NG      1   \n",
              "2           C       NG      2   \n",
              "3           C       NG      3   \n",
              "4          SI       NG      4   \n",
              "\n",
              "                                           Processed  \n",
              "0  ['easyjet', 'slam', 'ask', 'passeng', 'photo',...  \n",
              "1  ['imag', 'share', 'social', 'media', 'show', '...  \n",
              "2  ['caption', 'accompani', 'imag', 'say', 'easyj...  \n",
              "3  ['passeng', 'share', 'imag', 'tell', 'onlin', ...  \n",
              "4  ['explain', 'flight', 'attend', 'ask', 'woman'...  "
            ]
          },
          "execution_count": 3,
          "metadata": {},
          "output_type": "execute_result"
        }
      ],
      "source": [
        "documents = pd.read_csv(\"/Users/Kvamleik/Desktop/MasterData//Preprocessed data/preprocessed_news_easyjet.csv\")\n",
        "documents.head()"
      ]
    },
    {
      "cell_type": "code",
      "execution_count": null,
      "metadata": {
        "id": "pemgxg149d2N"
      },
      "outputs": [],
      "source": [
        "import gensim\n",
        "from gensim.utils import simple_preprocess\n",
        "from gensim.parsing.preprocessing import STOPWORDS\n",
        "from nltk.stem import WordNetLemmatizer, SnowballStemmer\n",
        "from nltk.stem.porter import *\n",
        "import numpy as np\n",
        "np.random.seed(2018)"
      ]
    },
    {
      "cell_type": "code",
      "execution_count": null,
      "metadata": {
        "id": "MI8fL5ye9d2V",
        "outputId": "0b5d43a2-4c8a-4729-da40-e4b3c17bea25"
      },
      "outputs": [
        {
          "name": "stderr",
          "output_type": "stream",
          "text": [
            "[nltk_data] Downloading package wordnet to\n",
            "[nltk_data]     C:\\Users\\Kvamleik\\AppData\\Roaming\\nltk_data...\n",
            "[nltk_data]   Package wordnet is already up-to-date!\n"
          ]
        },
        {
          "data": {
            "text/plain": [
              "True"
            ]
          },
          "execution_count": 5,
          "metadata": {},
          "output_type": "execute_result"
        }
      ],
      "source": [
        "import nltk\n",
        "nltk.download('wordnet')"
      ]
    },
    {
      "cell_type": "code",
      "execution_count": null,
      "metadata": {
        "id": "DZQsDZre9d2e"
      },
      "outputs": [],
      "source": [
        "stemmer = SnowballStemmer('english')"
      ]
    },
    {
      "cell_type": "code",
      "execution_count": null,
      "metadata": {
        "id": "m9AXbnl19d2k"
      },
      "outputs": [],
      "source": [
        "def lemmatize_stemming(text):\n",
        "    return stemmer.stem(WordNetLemmatizer().lemmatize(text, pos='v'))\n",
        "\n",
        "def preprocess(text):\n",
        "    result = []\n",
        "    for token in gensim.utils.simple_preprocess(text):\n",
        "        if token not in gensim.parsing.preprocessing.STOPWORDS and len(token) > 3:\n",
        "            result.append(lemmatize_stemming(token))\n",
        "    return result"
      ]
    },
    {
      "cell_type": "code",
      "execution_count": null,
      "metadata": {
        "id": "a29u4ogE9d2q"
      },
      "outputs": [],
      "source": [
        "processed_docs = documents['Processed'].map(preprocess)"
      ]
    },
    {
      "cell_type": "code",
      "execution_count": null,
      "metadata": {
        "id": "-5TDwv5h9d2x"
      },
      "outputs": [],
      "source": [
        "dictionary = gensim.corpora.Dictionary(processed_docs)"
      ]
    },
    {
      "cell_type": "code",
      "execution_count": null,
      "metadata": {
        "id": "eTufJFpzLMve",
        "outputId": "982dbfc9-717f-408f-b98f-88ba24292915"
      },
      "outputs": [
        {
          "name": "stdout",
          "output_type": "stream",
          "text": [
            "0    [easyjet, slam, passeng, photo, backless, seat...\n",
            "Name: Processed, dtype: object\n"
          ]
        }
      ],
      "source": [
        "print(processed_docs[:1])"
      ]
    },
    {
      "cell_type": "code",
      "execution_count": null,
      "metadata": {
        "id": "Vkrj3ZGNLMvh",
        "outputId": "9afaa5eb-68c0-492c-d6e5-204ff8dc4908"
      },
      "outputs": [
        {
          "name": "stdout",
          "output_type": "stream",
          "text": [
            "['easyjet', 'slam', 'passeng', 'photo', 'backless', 'seat', 'plan']\n"
          ]
        }
      ],
      "source": [
        "# Build the bigram and trigram models\n",
        "bigram = gensim.models.Phrases(processed_docs, min_count=10, threshold=200) # higher threshold fewer phrases.\n",
        "trigram = gensim.models.Phrases(bigram[processed_docs], threshold=200)  \n",
        "\n",
        "# Faster way to get a sentence clubbed as a trigram/bigram\n",
        "bigram_mod = gensim.models.phrases.Phraser(bigram)\n",
        "trigram_mod = gensim.models.phrases.Phraser(trigram)\n",
        "\n",
        "# See bigram and trigram example\n",
        "print(trigram_mod[bigram_mod[processed_docs[0]]])"
      ]
    },
    {
      "cell_type": "code",
      "execution_count": null,
      "metadata": {
        "id": "M9MEFXZfLMvj"
      },
      "outputs": [],
      "source": []
    },
    {
      "cell_type": "code",
      "execution_count": null,
      "metadata": {
        "id": "hG7u4Pzv9d22",
        "outputId": "a690e6dc-b5ad-4627-ebab-b52811f64f18"
      },
      "outputs": [
        {
          "name": "stdout",
          "output_type": "stream",
          "text": [
            "0 backless\n",
            "1 easyjet\n",
            "2 passeng\n",
            "3 photo\n",
            "4 plan\n",
            "5 seat\n",
            "6 slam\n",
            "7 chair\n",
            "8 imag\n",
            "9 media\n",
            "10 perch\n"
          ]
        }
      ],
      "source": [
        "count = 0\n",
        "for k, v in dictionary.iteritems():\n",
        "    print(k, v)\n",
        "    count += 1\n",
        "    if count > 10:\n",
        "        break"
      ]
    },
    {
      "cell_type": "code",
      "execution_count": null,
      "metadata": {
        "id": "hzBT1wgj9d29"
      },
      "outputs": [],
      "source": [
        "dictionary.filter_extremes(no_below=15, no_above=0.5)"
      ]
    },
    {
      "cell_type": "code",
      "execution_count": null,
      "metadata": {
        "id": "RCZzKXE89d3C",
        "outputId": "316e7670-303a-4a81-f08a-89dcad522b7b"
      },
      "outputs": [
        {
          "name": "stdout",
          "output_type": "stream",
          "text": [
            "[[(0, 1), (1, 1), (2, 1), (3, 1)]]\n"
          ]
        }
      ],
      "source": [
        "bow_corpus = [dictionary.doc2bow(doc) for doc in processed_docs]\n",
        "bow_corpus[150]\n",
        "\n",
        "print(bow_corpus[:1])"
      ]
    },
    {
      "cell_type": "code",
      "execution_count": null,
      "metadata": {
        "id": "eaOe2zOf9d3J",
        "outputId": "05c34cc5-6a15-4969-bcaf-8638e5ee9039"
      },
      "outputs": [
        {
          "name": "stdout",
          "output_type": "stream",
          "text": [
            "Word 2 (\"photo\") appears 1 time.\n",
            "Word 5 (\"plane\") appears 1 time.\n"
          ]
        }
      ],
      "source": [
        "bow_doc_150 = bow_corpus[150]\n",
        "\n",
        "for i in range(len(bow_doc_150)):\n",
        "    print(\"Word {} (\\\"{}\\\") appears {} time.\".format(bow_doc_150[i][0], \n",
        "                                                     dictionary[bow_doc_150[i][0]], \n",
        "                                                     bow_doc_150[i][1]))"
      ]
    },
    {
      "cell_type": "code",
      "execution_count": null,
      "metadata": {
        "id": "s87VQyAS9d3S"
      },
      "outputs": [],
      "source": [
        "from gensim import corpora, models\n",
        "\n",
        "tfidf = models.TfidfModel(bow_corpus)"
      ]
    },
    {
      "cell_type": "code",
      "execution_count": null,
      "metadata": {
        "id": "cHuENoQM9d3X"
      },
      "outputs": [],
      "source": [
        "corpus_tfidf = tfidf[bow_corpus]"
      ]
    },
    {
      "cell_type": "code",
      "execution_count": null,
      "metadata": {
        "id": "D6-idlUM9d3e",
        "outputId": "3c5be9e8-213d-497b-ecf2-e22369fb4866"
      },
      "outputs": [
        {
          "name": "stdout",
          "output_type": "stream",
          "text": [
            "[(0, 0.33739437093295815),\n",
            " (1, 0.3944057788619136),\n",
            " (2, 0.7442189707496333),\n",
            " (3, 0.42041318204765793)]\n"
          ]
        }
      ],
      "source": [
        "from pprint import pprint\n",
        "\n",
        "for doc in corpus_tfidf:\n",
        "    pprint(doc)\n",
        "    break"
      ]
    },
    {
      "cell_type": "code",
      "execution_count": null,
      "metadata": {
        "id": "XLKBu04L9d3j"
      },
      "outputs": [],
      "source": [
        "lda_model = gensim.models.LdaMulticore(bow_corpus, num_topics=5, id2word=dictionary, passes=5, workers=2, random_state=100)"
      ]
    },
    {
      "cell_type": "code",
      "execution_count": null,
      "metadata": {
        "id": "MAAD5Gdu9d3o",
        "outputId": "5b91a5fb-9c45-4794-9b64-994c5f85450d"
      },
      "outputs": [
        {
          "name": "stdout",
          "output_type": "stream",
          "text": [
            "Topic: 0 \n",
            "Words: 0.386*\"seat\" + 0.221*\"passeng\" + 0.184*\"safeti\" + 0.071*\"flight\" + 0.071*\"airlin\" + 0.047*\"easyjet\" + 0.006*\"photo\" + 0.005*\"imag\" + 0.004*\"staff\" + 0.004*\"plane\"\n",
            "Topic: 1 \n",
            "Words: 0.429*\"seat\" + 0.147*\"flight\" + 0.144*\"plane\" + 0.124*\"photo\" + 0.090*\"passeng\" + 0.045*\"easyjet\" + 0.007*\"imag\" + 0.006*\"airlin\" + 0.005*\"staff\" + 0.002*\"safeti\"\n",
            "Topic: 2 \n",
            "Words: 0.432*\"airlin\" + 0.266*\"imag\" + 0.176*\"easyjet\" + 0.051*\"photo\" + 0.035*\"passeng\" + 0.025*\"seat\" + 0.004*\"flight\" + 0.004*\"staff\" + 0.004*\"safeti\" + 0.004*\"plane\"\n",
            "Topic: 3 \n",
            "Words: 0.422*\"flight\" + 0.282*\"passeng\" + 0.131*\"easyjet\" + 0.125*\"staff\" + 0.020*\"airlin\" + 0.007*\"plane\" + 0.004*\"seat\" + 0.004*\"imag\" + 0.003*\"safeti\" + 0.003*\"photo\"\n",
            "Topic: 4 \n",
            "Words: 0.554*\"easyjet\" + 0.179*\"safeti\" + 0.072*\"staff\" + 0.071*\"passeng\" + 0.042*\"flight\" + 0.029*\"photo\" + 0.029*\"seat\" + 0.017*\"plane\" + 0.004*\"imag\" + 0.003*\"airlin\"\n"
          ]
        }
      ],
      "source": [
        "for idx, topic in lda_model.print_topics(-1):\n",
        "    print('Topic: {} \\nWords: {}'.format(idx, topic))"
      ]
    },
    {
      "cell_type": "markdown",
      "metadata": {
        "id": "ifQ-pQEhLMvy"
      },
      "source": [
        "### Compute Model Perplexity and Coherence Score of first model "
      ]
    },
    {
      "cell_type": "code",
      "execution_count": null,
      "metadata": {
        "id": "5fcX7sv-LMv3"
      },
      "outputs": [],
      "source": [
        "from gensim.models.coherencemodel import CoherenceModel"
      ]
    },
    {
      "cell_type": "code",
      "execution_count": null,
      "metadata": {
        "id": "hLuTv4DTLMv5",
        "outputId": "b9cb92a9-dd22-447b-afa9-bb7b2adfe4bd"
      },
      "outputs": [
        {
          "name": "stdout",
          "output_type": "stream",
          "text": [
            "\n",
            "Perplexity:  -2.6684777245383797\n",
            "\n",
            "Coherence Score:  0.3561779767744576\n"
          ]
        }
      ],
      "source": [
        "# Compute Perplexity\n",
        "print('\\nPerplexity: ', lda_model.log_perplexity(bow_corpus))  # a measure of how good the model is. lower the better.\n",
        "\n",
        "# Compute Coherence Score\n",
        "coherence_model_lda = CoherenceModel(model=lda_model, texts=processed_docs, dictionary=dictionary, coherence='c_v')\n",
        "coherence_lda = coherence_model_lda.get_coherence()\n",
        "print('\\nCoherence Score: ', coherence_lda)"
      ]
    },
    {
      "cell_type": "code",
      "execution_count": null,
      "metadata": {
        "id": "SnydpaxK9d3u",
        "outputId": "a29e1363-93d2-4551-c91a-15ab3a96a2c7"
      },
      "outputs": [
        {
          "name": "stdout",
          "output_type": "stream",
          "text": [
            "Requirement already satisfied: pyLDAvis in c:\\users\\kvamleik\\anaconda3\\lib\\site-packages (2.1.2)\n",
            "Requirement already satisfied: pandas>=0.17.0 in c:\\users\\kvamleik\\anaconda3\\lib\\site-packages (from pyLDAvis) (0.24.2)\n",
            "Requirement already satisfied: funcy in c:\\users\\kvamleik\\anaconda3\\lib\\site-packages (from pyLDAvis) (1.14)\n",
            "Requirement already satisfied: future in c:\\users\\kvamleik\\anaconda3\\lib\\site-packages (from pyLDAvis) (0.17.1)\n",
            "Requirement already satisfied: numexpr in c:\\users\\kvamleik\\anaconda3\\lib\\site-packages (from pyLDAvis) (2.6.9)\n",
            "Requirement already satisfied: scipy>=0.18.0 in c:\\users\\kvamleik\\anaconda3\\lib\\site-packages (from pyLDAvis) (1.2.1)\n",
            "Requirement already satisfied: pytest in c:\\users\\kvamleik\\anaconda3\\lib\\site-packages (from pyLDAvis) (5.0.1)\n",
            "Requirement already satisfied: joblib>=0.8.4 in c:\\users\\kvamleik\\anaconda3\\lib\\site-packages (from pyLDAvis) (0.13.2)\n",
            "Requirement already satisfied: numpy>=1.9.2 in c:\\users\\kvamleik\\anaconda3\\lib\\site-packages (from pyLDAvis) (1.16.4)\n",
            "Requirement already satisfied: jinja2>=2.7.2 in c:\\users\\kvamleik\\anaconda3\\lib\\site-packages (from pyLDAvis) (2.10.1)\n",
            "Requirement already satisfied: wheel>=0.23.0 in c:\\users\\kvamleik\\anaconda3\\lib\\site-packages (from pyLDAvis) (0.33.4)\n",
            "Requirement already satisfied: python-dateutil>=2.5.0 in c:\\users\\kvamleik\\anaconda3\\lib\\site-packages (from pandas>=0.17.0->pyLDAvis) (2.8.0)\n",
            "Requirement already satisfied: pytz>=2011k in c:\\users\\kvamleik\\anaconda3\\lib\\site-packages (from pandas>=0.17.0->pyLDAvis) (2019.1)\n",
            "Requirement already satisfied: py>=1.5.0 in c:\\users\\kvamleik\\anaconda3\\lib\\site-packages (from pytest->pyLDAvis) (1.8.0)\n",
            "Requirement already satisfied: packaging in c:\\users\\kvamleik\\anaconda3\\lib\\site-packages (from pytest->pyLDAvis) (19.0)\n",
            "Requirement already satisfied: attrs>=17.4.0 in c:\\users\\kvamleik\\anaconda3\\lib\\site-packages (from pytest->pyLDAvis) (19.1.0)\n",
            "Requirement already satisfied: more-itertools>=4.0.0 in c:\\users\\kvamleik\\anaconda3\\lib\\site-packages (from pytest->pyLDAvis) (7.0.0)\n",
            "Requirement already satisfied: atomicwrites>=1.0 in c:\\users\\kvamleik\\anaconda3\\lib\\site-packages (from pytest->pyLDAvis) (1.3.0)\n",
            "Requirement already satisfied: pluggy<1.0,>=0.12 in c:\\users\\kvamleik\\anaconda3\\lib\\site-packages (from pytest->pyLDAvis) (0.12.0)\n",
            "Requirement already satisfied: importlib-metadata>=0.12 in c:\\users\\kvamleik\\anaconda3\\lib\\site-packages (from pytest->pyLDAvis) (1.5.0)\n",
            "Requirement already satisfied: wcwidth in c:\\users\\kvamleik\\anaconda3\\lib\\site-packages (from pytest->pyLDAvis) (0.1.7)\n",
            "Requirement already satisfied: colorama in c:\\users\\kvamleik\\anaconda3\\lib\\site-packages (from pytest->pyLDAvis) (0.4.1)\n",
            "Requirement already satisfied: MarkupSafe>=0.23 in c:\\users\\kvamleik\\anaconda3\\lib\\site-packages (from jinja2>=2.7.2->pyLDAvis) (1.1.1)\n",
            "Requirement already satisfied: six>=1.5 in c:\\users\\kvamleik\\anaconda3\\lib\\site-packages (from python-dateutil>=2.5.0->pandas>=0.17.0->pyLDAvis) (1.12.0)\n",
            "Requirement already satisfied: pyparsing>=2.0.2 in c:\\users\\kvamleik\\anaconda3\\lib\\site-packages (from packaging->pytest->pyLDAvis) (2.4.0)\n",
            "Requirement already satisfied: zipp>=0.5 in c:\\users\\kvamleik\\anaconda3\\lib\\site-packages (from importlib-metadata>=0.12->pytest->pyLDAvis) (0.5.1)\n",
            "Note: you may need to restart the kernel to use updated packages.\n"
          ]
        }
      ],
      "source": [
        "pip install pyLDAvis"
      ]
    },
    {
      "cell_type": "code",
      "metadata": {
        "id": "EIRXYGxW9d33"
      },
      "source": [
        "### Choosing the optimal model with the highest Coherence Value"
      ],
      "execution_count": null,
      "outputs": []
    },
    {
      "cell_type": "code",
      "execution_count": null,
      "metadata": {
        "id": "C1WAZM7NLMv9"
      },
      "outputs": [],
      "source": [
        "def compute_coherence_values(dictionary, bow_corpus, processed_docs, limit, start=2, step=3):\n",
        "    \"\"\"\n",
        "    Compute c_v coherence for various number of topics\n",
        "\n",
        "    Parameters:\n",
        "    ----------\n",
        "    dictionary : Gensim dictionary\n",
        "    corpus : Gensim corpus\n",
        "    texts : List of input texts\n",
        "    limit : Max num of topics\n",
        "\n",
        "    Returns:\n",
        "    -------\n",
        "    model_list : List of LDA topic models\n",
        "    coherence_values : Coherence values corresponding to the LDA model with respective number of topics\n",
        "    \"\"\"\n",
        "    \n",
        "    coherence_values = []\n",
        "    model_list = []\n",
        "    for num_topics in range(start, limit, step):\n",
        "        model = gensim.models.LdaMulticore(bow_corpus, num_topics=num_topics, id2word=dictionary, passes=5, workers=2, random_state=100)\n",
        "        model_list.append(model)\n",
        "        coherencemodel = CoherenceModel(model=model, texts=processed_docs, dictionary=dictionary, coherence='c_v')\n",
        "        coherence_values.append(coherencemodel.get_coherence())\n",
        "\n",
        "    return model_list, coherence_values"
      ]
    },
    {
      "cell_type": "code",
      "execution_count": null,
      "metadata": {
        "id": "VLNRwTj9LMv_"
      },
      "outputs": [],
      "source": [
        "model_list, coherence_values = compute_coherence_values(dictionary=dictionary, bow_corpus=bow_corpus, processed_docs=processed_docs, start=2, limit=15, step=2)"
      ]
    },
    {
      "cell_type": "code",
      "execution_count": null,
      "metadata": {
        "id": "vzQy9EyZLMwB",
        "outputId": "e8f32454-e4a6-43c2-90a2-1e6d8e2513f2"
      },
      "outputs": [
        {
          "data": {
            "image/png": "[encoded data removed]",
            "text/plain": [
              "<Figure size 432x288 with 1 Axes>"
            ]
          },
          "metadata": {
            "needs_background": "light"
          },
          "output_type": "display_data"
        }
      ],
      "source": [
        "import matplotlib.pyplot as plt\n",
        "# Show graph\n",
        "limit=15; start=2; step=2;\n",
        "x = range(start, limit, step)\n",
        "plt.plot(x, coherence_values)\n",
        "plt.xlabel(\"Num Topics\")\n",
        "plt.ylabel(\"Coherence score\")\n",
        "plt.legend((\"coherence_values\"), loc='best')\n",
        "plt.show()"
      ]
    },
    {
      "cell_type": "code",
      "execution_count": null,
      "metadata": {
        "id": "TLJ9PXy_LMwC",
        "outputId": "2541d9cb-aa38-4841-88f0-ad6fb39aa753"
      },
      "outputs": [
        {
          "name": "stdout",
          "output_type": "stream",
          "text": [
            "Num Topics = 2  has Coherence Value of 0.3562\n",
            "Num Topics = 4  has Coherence Value of 0.3562\n",
            "Num Topics = 6  has Coherence Value of 0.3562\n",
            "Num Topics = 8  has Coherence Value of 0.3562\n",
            "Num Topics = 10  has Coherence Value of 0.3562\n",
            "Num Topics = 12  has Coherence Value of 0.3562\n",
            "Num Topics = 14  has Coherence Value of 0.3562\n"
          ]
        }
      ],
      "source": [
        "# Print the coherence scores\n",
        "for m, cv in zip(x, coherence_values):\n",
        "    print(\"Num Topics =\", m, \" has Coherence Value of\", round(cv, 4))"
      ]
    },
    {
      "cell_type": "code",
      "execution_count": null,
      "metadata": {
        "id": "TiH9dgzELMwD",
        "outputId": "6fcdba3e-afb8-460a-993e-06dcdb42b916"
      },
      "outputs": [
        {
          "name": "stdout",
          "output_type": "stream",
          "text": [
            "[(0,\n",
            "  '0.276*\"passeng\" + 0.174*\"airlin\" + 0.154*\"easyjet\" + 0.150*\"flight\" + '\n",
            "  '0.147*\"safeti\" + 0.057*\"seat\" + 0.014*\"plane\" + 0.011*\"staff\" + '\n",
            "  '0.009*\"photo\" + 0.008*\"imag\"'),\n",
            " (1,\n",
            "  '0.287*\"seat\" + 0.197*\"easyjet\" + 0.164*\"flight\" + 0.079*\"photo\" + '\n",
            "  '0.071*\"plane\" + 0.069*\"staff\" + 0.066*\"imag\" + 0.049*\"passeng\" + '\n",
            "  '0.013*\"airlin\" + 0.004*\"safeti\"')]\n"
          ]
        }
      ],
      "source": [
        "optimal_model = model_list[0]\n",
        "model_topics = optimal_model.show_topics(formatted=False)\n",
        "pprint(optimal_model.print_topics(num_words=10))"
      ]
    },
    {
      "cell_type": "code",
      "execution_count": null,
      "metadata": {
        "id": "F2IYvehILMwE",
        "outputId": "4b182740-0763-4858-e873-fe38a6133453"
      },
      "outputs": [
        {
          "name": "stdout",
          "output_type": "stream",
          "text": [
            "\n",
            "Perplexity:  -2.716966200911191\n"
          ]
        }
      ],
      "source": [
        "# Compute Perplexity\n",
        "print('\\nPerplexity: ', optimal_model.log_perplexity(bow_corpus))  # a measure of how good the model is. lower the better."
      ]
    },
    {
      "cell_type": "code",
      "execution_count": null,
      "metadata": {
        "id": "3sKkWUmcLMwF",
        "outputId": "7b516f88-4ed1-4342-df2e-74afe0b0ed4d"
      },
      "outputs": [
        {
          "name": "stderr",
          "output_type": "stream",
          "text": [
            "C:\\Users\\Kvamleik\\Anaconda3\\lib\\site-packages\\pyLDAvis\\_prepare.py:257: FutureWarning: Sorting because non-concatenation axis is not aligned. A future version\n",
            "of pandas will change to not sort by default.\n",
            "\n",
            "To accept the future behavior, pass 'sort=False'.\n",
            "\n",
            "To retain the current behavior and silence the warning, pass 'sort=True'.\n",
            "\n",
            "  return pd.concat([default_term_info] + list(topic_dfs))\n"
          ]
        },
        {
          "data": {
            "text/html": [
              "\n",
              "<link rel=\"stylesheet\" type=\"text/css\" href=\"https://cdn.rawgit.com/bmabey/pyLDAvis/files/ldavis.v1.0.0.css\">\n",
              "\n",
              "\n",
              "<div id=\"ldavis_el212016604370310967334787451\"></div>\n",
              "<script type=\"text/javascript\">\n",
              "\n",
              "var ldavis_el212016604370310967334787451_data = {\"mdsDat\": {\"x\": [-0.02936938369677398, 0.14557837244219995, -0.18054095255045421, 0.07717839902661847, -0.2143710312476219, 0.2015245960260312], \"y\": [0.08798112678863049, -0.07872720021224652, 0.09267933348423472, 0.19728546388184276, -0.18238013465801764, -0.11683858928444385], \"topics\": [1, 2, 3, 4, 5, 6], \"cluster\": [1, 1, 1, 1, 1, 1], \"Freq\": [22.426860809326172, 21.85469627380371, 15.864986419677734, 14.560545921325684, 12.716500282287598, 12.576404571533203]}, \"tinfo\": {\"Category\": [\"Default\", \"Default\", \"Default\", \"Default\", \"Default\", \"Default\", \"Default\", \"Default\", \"Default\", \"Default\", \"Topic1\", \"Topic1\", \"Topic1\", \"Topic1\", \"Topic1\", \"Topic1\", \"Topic1\", \"Topic1\", \"Topic1\", \"Topic1\", \"Topic2\", \"Topic2\", \"Topic2\", \"Topic2\", \"Topic2\", \"Topic2\", \"Topic2\", \"Topic2\", \"Topic2\", \"Topic2\", \"Topic3\", \"Topic3\", \"Topic3\", \"Topic3\", \"Topic3\", \"Topic3\", \"Topic3\", \"Topic3\", \"Topic3\", \"Topic3\", \"Topic4\", \"Topic4\", \"Topic4\", \"Topic4\", \"Topic4\", \"Topic4\", \"Topic4\", \"Topic4\", \"Topic4\", \"Topic4\", \"Topic5\", \"Topic5\", \"Topic5\", \"Topic5\", \"Topic5\", \"Topic5\", \"Topic5\", \"Topic5\", \"Topic5\", \"Topic5\", \"Topic6\", \"Topic6\", \"Topic6\", \"Topic6\", \"Topic6\", \"Topic6\", \"Topic6\", \"Topic6\", \"Topic6\", \"Topic6\"], \"Freq\": [78.0, 62.0, 30.0, 21.0, 57.0, 16.0, 16.0, 15.0, 52.0, 17.0, 11.416374206542969, 30.76622772216797, 17.70050621032715, 14.651906967163086, 1.61640202999115, 5.502913475036621, 0.4914590120315552, 0.30031558871269226, 0.15434469282627106, 0.1546584516763687, 45.166465759277344, 14.158578872680664, 3.724747896194458, 12.17009449005127, 4.25519323348999, 0.2568098306655884, 0.2970755100250244, 0.204302117228508, 0.20391879975795746, 0.20663237571716309, 20.29682159423828, 22.40041160583496, 4.828609466552734, 3.6205830574035645, 4.412092685699463, 2.137991189956665, 0.23082976043224335, 0.23112480342388153, 0.14970582723617554, 0.23363010585308075, 9.396782875061035, 23.490066528320312, 15.181958198547363, 3.664562702178955, 0.860501766204834, 0.21449719369411469, 0.14806397259235382, 0.44067272543907166, 0.14834101498126984, 0.18296372890472412, 12.235113143920898, 21.095911026000977, 8.493717193603516, 2.660022735595703, 1.3663102388381958, 0.3912055194377899, 0.17019109427928925, 0.16978326439857483, 0.16985489428043365, 0.1717754602432251, 13.460076332092285, 5.098099708557129, 20.25886344909668, 4.608890533447266, 0.4588282108306885, 0.7448433637619019, 0.40556755661964417, 0.21469128131866455, 0.6079756617546082, 0.5490961074829102], \"Term\": [\"seat\", \"easyjet\", \"airlin\", \"safeti\", \"flight\", \"plane\", \"imag\", \"staff\", \"passeng\", \"photo\", \"photo\", \"easyjet\", \"passeng\", \"flight\", \"plane\", \"seat\", \"airlin\", \"safeti\", \"staff\", \"imag\", \"seat\", \"passeng\", \"imag\", \"flight\", \"airlin\", \"photo\", \"safeti\", \"staff\", \"plane\", \"easyjet\", \"safeti\", \"easyjet\", \"staff\", \"passeng\", \"seat\", \"flight\", \"imag\", \"photo\", \"plane\", \"airlin\", \"staff\", \"flight\", \"passeng\", \"airlin\", \"plane\", \"imag\", \"photo\", \"easyjet\", \"safeti\", \"seat\", \"imag\", \"airlin\", \"easyjet\", \"seat\", \"passeng\", \"photo\", \"staff\", \"plane\", \"safeti\", \"flight\", \"plane\", \"photo\", \"seat\", \"flight\", \"staff\", \"airlin\", \"safeti\", \"imag\", \"passeng\", \"easyjet\"], \"Total\": [78.0, 62.0, 30.0, 21.0, 57.0, 16.0, 16.0, 15.0, 52.0, 17.0, 17.54167938232422, 62.85675811767578, 52.63591003417969, 57.2307243347168, 16.46038818359375, 78.1833267211914, 30.485599517822266, 21.61797523498535, 15.213058471679688, 16.774538040161133, 78.1833267211914, 52.63591003417969, 16.774538040161133, 57.2307243347168, 30.485599517822266, 17.54167938232422, 21.61797523498535, 15.213058471679688, 16.46038818359375, 62.85675811767578, 21.61797523498535, 62.85675811767578, 15.213058471679688, 52.63591003417969, 78.1833267211914, 57.2307243347168, 16.774538040161133, 17.54167938232422, 16.46038818359375, 30.485599517822266, 15.213058471679688, 57.2307243347168, 52.63591003417969, 30.485599517822266, 16.46038818359375, 16.774538040161133, 17.54167938232422, 62.85675811767578, 21.61797523498535, 78.1833267211914, 16.774538040161133, 30.485599517822266, 62.85675811767578, 78.1833267211914, 52.63591003417969, 17.54167938232422, 15.213058471679688, 16.46038818359375, 21.61797523498535, 57.2307243347168, 16.46038818359375, 17.54167938232422, 78.1833267211914, 57.2307243347168, 15.213058471679688, 30.485599517822266, 21.61797523498535, 16.774538040161133, 52.63591003417969, 62.85675811767578], \"loglift\": [10.0, 9.0, 8.0, 7.0, 6.0, 5.0, 4.0, 3.0, 2.0, 1.0, 1.0654000043869019, 0.7804999947547913, 0.4050999879837036, 0.1324000060558319, -0.8258000016212463, -1.1589000225067139, -2.632699966430664, -2.7815001010894775, -3.0957999229431152, -3.191499948501587, 0.972100019454956, 0.2076999992132187, 0.01590000092983246, -0.027400000020861626, -0.44839999079704285, -2.703200101852417, -2.7664999961853027, -2.789599895477295, -2.8701999187469482, -4.196899890899658, 1.777999997138977, 0.8093000054359436, 0.6934999823570251, -0.8356999754905701, -1.0336999893188477, -1.4462000131607056, -2.4449000358581543, -2.488300085067749, -2.8589999675750732, -3.0302000045776367, 1.445099949836731, 1.0362999439239502, 0.6836000084877014, -0.19169999659061432, -1.0242999792099, -2.432499885559082, -2.8478000164031982, -3.0334999561309814, -3.0548999309539795, -4.13070011138916, 1.7467000484466553, 1.694100022315979, 0.06069999933242798, -1.31850004196167, -1.5889999866485596, -1.7408000230789185, -2.4307000637054443, -2.511899948120117, -2.78410005569458, -3.7464001178741455, 1.8720999956130981, 0.8375999927520752, 0.7228999733924866, -0.4458000063896179, -1.427899956703186, -1.6384999752044678, -1.9026000499725342, -2.285099983215332, -2.387700080871582, -2.6670000553131104], \"logprob\": [10.0, 9.0, 8.0, 7.0, 6.0, 5.0, 4.0, 3.0, 2.0, 1.0, -1.9808000326156616, -0.9894999861717224, -1.5422999858856201, -1.7312999963760376, -3.935699939727783, -2.710599899291992, -5.126299858093262, -5.618800163269043, -6.2845001220703125, -6.282400131225586, -0.5796999931335449, -1.7396999597549438, -3.075000047683716, -1.8911000490188599, -2.9419000148773193, -5.749499797821045, -5.603799819946289, -5.9781999588012695, -5.980100154876709, -5.966899871826172, -1.0592999458312988, -0.9606999754905701, -2.4951999187469482, -2.783099889755249, -2.585400104522705, -3.3099000453948975, -5.535799980163574, -5.5345001220703125, -5.968800067901611, -5.523799896240234, -1.7436000108718872, -0.8274000287055969, -1.263800024986267, -2.6851999759674072, -4.134200096130371, -5.523399829864502, -5.894100189208984, -4.803400039672852, -5.892199993133545, -5.682400226593018, -1.3442000150680542, -0.7993999719619751, -1.7092000246047974, -2.8701999187469482, -3.536400079727173, -4.7870001792907715, -5.6194000244140625, -5.621799945831299, -5.621300220489502, -5.610099792480469, -1.2376999855041504, -2.2086000442504883, -0.8288999795913696, -2.309499979019165, -4.616499900817871, -4.131999969482422, -4.7399001121521, -5.375999927520752, -4.335100173950195, -4.4369001388549805]}, \"token.table\": {\"Topic\": [2, 4, 5, 6, 1, 3, 5, 6, 1, 2, 3, 4, 6, 2, 5, 1, 2, 3, 4, 5, 6, 1, 6, 1, 4, 6, 3, 1, 2, 3, 5, 6, 3, 4], \"Freq\": [0.13120949268341064, 0.13120949268341064, 0.6888498067855835, 0.03280237317085266, 0.4931848347187042, 0.35000213980674744, 0.12727349996566772, 0.015909187495708466, 0.26209697127342224, 0.2096775770187378, 0.0349462628364563, 0.40188202261924744, 0.08736565709114075, 0.2384566366672516, 0.7153699398040771, 0.34197184443473816, 0.2659780979156494, 0.07599374651908875, 0.2849765419960022, 0.018998436629772186, 0.018998436629772186, 0.6270779371261597, 0.2850354313850403, 0.1215038150548935, 0.06075190752744675, 0.7897748351097107, 0.9251559972763062, 0.07674270868301392, 0.575570285320282, 0.05116180330514908, 0.03837135434150696, 0.2558090090751648, 0.32866501808166504, 0.5915970206260681], \"Term\": [\"airlin\", \"airlin\", \"airlin\", \"airlin\", \"easyjet\", \"easyjet\", \"easyjet\", \"easyjet\", \"flight\", \"flight\", \"flight\", \"flight\", \"flight\", \"imag\", \"imag\", \"passeng\", \"passeng\", \"passeng\", \"passeng\", \"passeng\", \"passeng\", \"photo\", \"photo\", \"plane\", \"plane\", \"plane\", \"safeti\", \"seat\", \"seat\", \"seat\", \"seat\", \"seat\", \"staff\", \"staff\"]}, \"R\": 10, \"lambda.step\": 0.01, \"plot.opts\": {\"xlab\": \"PC1\", \"ylab\": \"PC2\"}, \"topic.order\": [5, 1, 6, 4, 3, 2]};\n",
              "\n",
              "function LDAvis_load_lib(url, callback){\n",
              "  var s = document.createElement('script');\n",
              "  s.src = url;\n",
              "  s.async = true;\n",
              "  s.onreadystatechange = s.onload = callback;\n",
              "  s.onerror = function(){console.warn(\"failed to load library \" + url);};\n",
              "  document.getElementsByTagName(\"head\")[0].appendChild(s);\n",
              "}\n",
              "\n",
              "if(typeof(LDAvis) !== \"undefined\"){\n",
              "   // already loaded: just create the visualization\n",
              "   !function(LDAvis){\n",
              "       new LDAvis(\"#\" + \"ldavis_el212016604370310967334787451\", ldavis_el212016604370310967334787451_data);\n",
              "   }(LDAvis);\n",
              "}else if(typeof define === \"function\" && define.amd){\n",
              "   // require.js is available: use it to load d3/LDAvis\n",
              "   require.config({paths: {d3: \"https://cdnjs.cloudflare.com/ajax/libs/d3/3.5.5/d3.min\"}});\n",
              "   require([\"d3\"], function(d3){\n",
              "      window.d3 = d3;\n",
              "      LDAvis_load_lib(\"https://cdn.rawgit.com/bmabey/pyLDAvis/files/ldavis.v1.0.0.js\", function(){\n",
              "        new LDAvis(\"#\" + \"ldavis_el212016604370310967334787451\", ldavis_el212016604370310967334787451_data);\n",
              "      });\n",
              "    });\n",
              "}else{\n",
              "    // require.js not available: dynamically load d3 & LDAvis\n",
              "    LDAvis_load_lib(\"https://cdnjs.cloudflare.com/ajax/libs/d3/3.5.5/d3.min.js\", function(){\n",
              "         LDAvis_load_lib(\"https://cdn.rawgit.com/bmabey/pyLDAvis/files/ldavis.v1.0.0.js\", function(){\n",
              "                 new LDAvis(\"#\" + \"ldavis_el212016604370310967334787451\", ldavis_el212016604370310967334787451_data);\n",
              "            })\n",
              "         });\n",
              "}\n",
              "</script>"
            ],
            "text/plain": [
              "<IPython.core.display.HTML object>"
            ]
          },
          "execution_count": 30,
          "metadata": {},
          "output_type": "execute_result"
        }
      ],
      "source": [
        "%matplotlib inline\n",
        "import pyLDAvis\n",
        "import pyLDAvis.gensim\n",
        "vis = pyLDAvis.gensim.prepare(topic_model=optimal_model, corpus=bow_corpus, dictionary=dictionary)\n",
        "pyLDAvis.enable_notebook()\n",
        "pyLDAvis.display(vis)"
      ]
    },
    {
      "cell_type": "code",
      "execution_count": null,
      "metadata": {
        "id": "9oSCIyLiLMwG"
      },
      "outputs": [],
      "source": []
    }
  ],
  "metadata": {
    "colab": {
      "provenance": []
    },
    "kernelspec": {
      "display_name": "Python 3",
      "language": "python",
      "name": "python3"
    },
    "language_info": {
      "codemirror_mode": {
        "name": "ipython",
        "version": 3
      },
      "file_extension": ".py",
      "mimetype": "text/x-python",
      "name": "python",
      "nbconvert_exporter": "python",
      "pygments_lexer": "ipython3",
      "version": "3.7.3"
    }
  },
  "nbformat": 4,
  "nbformat_minor": 0
}